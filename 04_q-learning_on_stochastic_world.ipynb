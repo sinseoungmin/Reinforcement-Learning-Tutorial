{
 "cells": [
  {
   "cell_type": "markdown",
   "metadata": {},
   "source": [
    "## Q-learning for stochastic world"
   ]
  },
  {
   "cell_type": "code",
   "execution_count": 83,
   "metadata": {
    "collapsed": true
   },
   "outputs": [],
   "source": [
    "import numpy as np\n",
    "import matplotlib.pyplot as plt\n",
    "import gym\n",
    "from gym.envs.registration import register"
   ]
  },
  {
   "cell_type": "markdown",
   "metadata": {},
   "source": [
    "### make gym"
   ]
  },
  {
   "cell_type": "code",
   "execution_count": 15,
   "metadata": {
    "collapsed": false
   },
   "outputs": [
    {
     "name": "stderr",
     "output_type": "stream",
     "text": [
      "[2017-04-30 20:26:48,743] Making new env: FrozenLake-v0\n"
     ]
    },
    {
     "name": "stdout",
     "output_type": "stream",
     "text": [
      "\n",
      "\u001b[41mS\u001b[0mFFF\n",
      "FHFH\n",
      "FFFH\n",
      "HFFG\n"
     ]
    }
   ],
   "source": [
    "env = gym.make('FrozenLake-v0')\n",
    "env.render()"
   ]
  },
  {
   "cell_type": "code",
   "execution_count": 58,
   "metadata": {
    "collapsed": true
   },
   "outputs": [],
   "source": [
    "def rargmax(vector):\n",
    "    m = np.amax(vector)\n",
    "    indices = np.nonzero(vector==m)[0]\n",
    "    return pr.choice(indices)"
   ]
  },
  {
   "cell_type": "markdown",
   "metadata": {},
   "source": [
    "### algorithm with learning rate"
   ]
  },
  {
   "cell_type": "code",
   "execution_count": 104,
   "metadata": {
    "collapsed": true
   },
   "outputs": [],
   "source": [
    "# initialize table with all zeros\n",
    "Q = np.zeros([env.observation_space.n, env.action_space.n])\n",
    "# set learning parameters¶\n",
    "num_episodes = 10000\n",
    "d_factor = 0.90\n",
    "l_rate = 0.7\n",
    "\n",
    "# create lists to contain total rewards and steps per episode\n",
    "rList = []\n",
    "for i in range(num_episodes):\n",
    "    # reset environment and get first new observation\n",
    "    state = env.reset()\n",
    "    rAll = 0\n",
    "    done = False\n",
    "    \n",
    "    # q-table learning algorithm\n",
    "    while not done:\n",
    "        # method2: add random noise\n",
    "        action = np.argmax(Q[state,:] + np.random.randn(1, env.action_space.n)/(i+1))\n",
    "        \n",
    "        # get new state and reward from environment\n",
    "        new_state, reward, done, _ = env.step(action)\n",
    "        \n",
    "        # update q-table with new knowledge using learning rate\n",
    "        Q[state, action] = (1-l_rate)*Q[state,action]+l_rate*(reward + d_factor*np.max(Q[new_state, :]))\n",
    "        \n",
    "        rAll += reward\n",
    "        state = new_state\n",
    "    rList.append(rAll)"
   ]
  },
  {
   "cell_type": "markdown",
   "metadata": {},
   "source": [
    "### evaluate"
   ]
  },
  {
   "cell_type": "code",
   "execution_count": 105,
   "metadata": {
    "collapsed": false
   },
   "outputs": [
    {
     "name": "stdout",
     "output_type": "stream",
     "text": [
      "success rate:  0.6167\n",
      "final q-table values\n",
      "left down right up\n",
      "[[  8.62050865e-02   2.11464002e-03   2.24315517e-03   2.01145225e-03]\n",
      " [  1.16785322e-04   3.80575497e-04   2.36062471e-04   3.09535035e-02]\n",
      " [  3.47661969e-04   5.12319431e-04   3.36163084e-04   2.37265073e-02]\n",
      " [  1.39281412e-04   1.43455998e-04   1.15108628e-05   1.77478959e-02]\n",
      " [  2.70055995e-01   1.34695284e-03   1.34852970e-03   1.25345065e-04]\n",
      " [  0.00000000e+00   0.00000000e+00   0.00000000e+00   0.00000000e+00]\n",
      " [  3.42284990e-03   3.93965708e-05   1.21357291e-04   5.16870284e-05]\n",
      " [  0.00000000e+00   0.00000000e+00   0.00000000e+00   0.00000000e+00]\n",
      " [  4.42675858e-04   1.19709264e-04   3.43304046e-04   4.95564323e-01]\n",
      " [  4.45930329e-03   5.91926125e-01   1.11292252e-03   1.96803475e-04]\n",
      " [  2.02789439e-01   1.36766176e-03   1.41351193e-04   1.05965681e-03]\n",
      " [  0.00000000e+00   0.00000000e+00   0.00000000e+00   0.00000000e+00]\n",
      " [  0.00000000e+00   0.00000000e+00   0.00000000e+00   0.00000000e+00]\n",
      " [  3.51483478e-04   3.67471261e-04   3.78706140e-01   9.38961504e-04]\n",
      " [  0.00000000e+00   8.94147841e-01   0.00000000e+00   0.00000000e+00]\n",
      " [  0.00000000e+00   0.00000000e+00   0.00000000e+00   0.00000000e+00]]\n"
     ]
    },
    {
     "data": {
      "image/png": "[encoded data removed]",
      "text/plain": [
       "<matplotlib.figure.Figure at 0x11232bfd0>"
      ]
     },
     "metadata": {},
     "output_type": "display_data"
    }
   ],
   "source": [
    "print('success rate: ', str(sum(rList)/num_episodes))\n",
    "print('final q-table values')\n",
    "print('left down right up')\n",
    "print(Q)\n",
    "plt.bar(range(len(rList)), rList, color='blue')\n",
    "plt.show()"
   ]
  },
  {
   "cell_type": "markdown",
   "metadata": {
    "collapsed": true
   },
   "source": []
  }
 ],
 "metadata": {
  "kernelspec": {
   "display_name": "Python 3",
   "language": "python",
   "name": "python3"
  },
  "language_info": {
   "codemirror_mode": {
    "name": "ipython",
    "version": 3
   },
   "file_extension": ".py",
   "mimetype": "text/x-python",
   "name": "python",
   "nbconvert_exporter": "python",
   "pygments_lexer": "ipython3",
   "version": "3.6.0"
  }
 },
 "nbformat": 4,
 "nbformat_minor": 2
}
